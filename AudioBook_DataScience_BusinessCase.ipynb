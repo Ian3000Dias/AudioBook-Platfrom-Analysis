{
  "cells": [
    {
      "cell_type": "markdown",
      "metadata": {
        "id": "view-in-github",
        "colab_type": "text"
      },
      "source": [
        "<a href=\"https://colab.research.google.com/github/Ian3000Dias/AudioBook-Platfrom-Analysis/blob/main/AudioBook_DataScience_BusinessCase.ipynb\" target=\"_parent\"><img src=\"https://colab.research.google.com/assets/colab-badge.svg\" alt=\"Open In Colab\"/></a>"
      ]
    },
    {
      "cell_type": "markdown",
      "source": [
        "<h1> AUDIO BOOKS EXAMPLE"
      ],
      "metadata": {
        "id": "yUcYevUdJqjA"
      }
    },
    {
      "cell_type": "markdown",
      "source": [
        "<h2> PREPROCESSING"
      ],
      "metadata": {
        "id": "vDEZcH6Gf5Bl"
      }
    },
    {
      "cell_type": "markdown",
      "source": [
        "<h3> Extract Data from CSV"
      ],
      "metadata": {
        "id": "DyhayevjJv9h"
      }
    },
    {
      "cell_type": "code",
      "source": [
        "import numpy as np\n",
        "from sklearn import preprocessing\n",
        "\n",
        "raw_csv_data = np.loadtxt('https://raw.githubusercontent.com/Ian3000Dias/AudioBook-Platfrom-Analysis/refs/heads/main/Audiobooks_data.csv', delimiter = ',')\n",
        "\n",
        "unscaled_inputs_all = raw_csv_data[:,1:-1]\n",
        "targets_all = raw_csv_data[:,-1]"
      ],
      "metadata": {
        "id": "cTiR6Y9BFczj"
      },
      "execution_count": 1,
      "outputs": []
    },
    {
      "cell_type": "markdown",
      "source": [
        "<h3> Shuffle the data"
      ],
      "metadata": {
        "id": "rLeay5Pjdl7p"
      }
    },
    {
      "cell_type": "code",
      "source": [
        "shuffled_indices =np.arange(unscaled_inputs_all.shape[0])\n",
        "np.random.shuffle(shuffled_indices)\n",
        "\n",
        "shuffled_inputs = unscaled_inputs_all[shuffled_indices]\n",
        "shuffled_targets = targets_all[shuffled_indices]\n"
      ],
      "metadata": {
        "id": "U7BW3VcrdQgL"
      },
      "execution_count": 2,
      "outputs": []
    },
    {
      "cell_type": "markdown",
      "source": [
        "<h3> Balance the dataset"
      ],
      "metadata": {
        "id": "hdCFs0ApK6F1"
      }
    },
    {
      "cell_type": "code",
      "source": [
        "num_one_targets = int(np.sum(shuffled_targets))\n",
        "zero_targets_counter = 0\n",
        "indices_to_remove = []\n",
        "\n",
        "for i in range(shuffled_targets.shape[0]):\n",
        "    if shuffled_targets[i] == 0:\n",
        "        zero_targets_counter += 1\n",
        "        if zero_targets_counter > num_one_targets:\n",
        "            indices_to_remove.append"
      ],
      "metadata": {
        "id": "yjaBVU5VKpiq"
      },
      "execution_count": 3,
      "outputs": []
    },
    {
      "cell_type": "code",
      "source": [
        "unscaled_inputs_equal_priors = np.delete(shuffled_inputs, indices_to_remove, axis = 0)\n",
        "targets_equal_priors = np.delete(shuffled_targets, indices_to_remove, axis = 0)"
      ],
      "metadata": {
        "id": "dTHHkWbIKy8b"
      },
      "execution_count": 4,
      "outputs": []
    },
    {
      "cell_type": "markdown",
      "source": [
        "<h3> Standardize the inputs"
      ],
      "metadata": {
        "id": "erMMBzCXdI4i"
      }
    },
    {
      "cell_type": "code",
      "source": [
        "scaled_inputs = preprocessing.scale(unscaled_inputs_equal_priors)"
      ],
      "metadata": {
        "id": "mmkRq3p7dIF9"
      },
      "execution_count": 5,
      "outputs": []
    },
    {
      "cell_type": "markdown",
      "source": [
        "<h3> Split the dataset into train, validation, and test"
      ],
      "metadata": {
        "id": "WhohlgV5dweA"
      }
    },
    {
      "cell_type": "code",
      "source": [
        "sample_count = shuffled_inputs.shape[0]\n",
        "\n",
        "train_sample_count = int(0.8 * sample_count)\n",
        "validation_sample_count = int(0.1 * sample_count)\n",
        "test_sample_count = sample_count - train_sample_count - validation_sample_count\n",
        "\n",
        "train_inputs = scaled_inputs[:train_sample_count]\n",
        "train_targets = targets_equal_priors[:train_sample_count]\n",
        "\n",
        "validation_inputs = scaled_inputs[train_sample_count:train_sample_count + validation_sample_count]\n",
        "validation_targets = targets_equal_priors[train_sample_count:train_sample_count + validation_sample_count]\n",
        "\n",
        "test_inputs = scaled_inputs[train_sample_count + validation_sample_count:]\n",
        "test_targets = targets_equal_priors[train_sample_count + validation_sample_count:]\n",
        "\n",
        "print(np.sum(train_targets), train_sample_count, np.sum(train_targets) / train_sample_count)\n",
        "print(np.sum(validation_targets), validation_sample_count, np.sum(validation_targets) / validation_sample_count)\n",
        "print(np.sum(test_targets), test_sample_count, np.sum(test_targets) / test_sample_count)"
      ],
      "metadata": {
        "colab": {
          "base_uri": "https://localhost:8080/"
        },
        "id": "Ijb_EAKXdv_9",
        "outputId": "80b80a0e-a1ac-410d-c481-432c461989dc"
      },
      "execution_count": 6,
      "outputs": [
        {
          "output_type": "stream",
          "name": "stdout",
          "text": [
            "1817.0 11267 0.16126741812372414\n",
            "217.0 1408 0.15411931818181818\n",
            "203.0 1409 0.1440738112136267\n"
          ]
        }
      ]
    },
    {
      "cell_type": "markdown",
      "source": [
        "<h3> Save datasets as .npz"
      ],
      "metadata": {
        "id": "B02jdg1JfhUN"
      }
    },
    {
      "cell_type": "code",
      "source": [
        "np.savez('Audiobooks_data_train', inputs = train_inputs, targets = train_targets)\n",
        "np.savez('Audiobooks_data_validation', inputs = validation_inputs, targets = validation_targets)\n",
        "np.savez('Audiobooks_data_test', inputs = test_inputs, targets = test_targets)"
      ],
      "metadata": {
        "id": "u_h_ZUtNemgE"
      },
      "execution_count": 7,
      "outputs": []
    },
    {
      "cell_type": "markdown",
      "source": [
        "<H2> Creating Machine Learning Algorithm"
      ],
      "metadata": {
        "id": "tszyP1s8nxtI"
      }
    },
    {
      "cell_type": "code",
      "source": [
        "import tensorflow as tf"
      ],
      "metadata": {
        "id": "xSPO-AL3fv09"
      },
      "execution_count": 8,
      "outputs": []
    },
    {
      "cell_type": "markdown",
      "source": [
        "<h3> Data"
      ],
      "metadata": {
        "id": "HqxOq-yqn7aX"
      }
    },
    {
      "cell_type": "code",
      "source": [
        "npz = np.load('Audiobooks_data_train.npz')\n",
        "\n",
        "train_inputs = npz['inputs'].astype(np.float64)\n",
        "train_targets = npz['targets'].astype(np.int64)\n",
        "\n",
        "npz = np.load('Audiobooks_data_validation.npz')\n",
        "validation_inputs, validation_targets = npz['inputs'].astype(np.float64), npz['targets'].astype(np.int64)\n",
        "\n",
        "npz = np.load('Audiobooks_data_test.npz')\n",
        "test_inputs, test_targets = npz['inputs'].astype(np.float64), npz['targets'].astype(np.int64)\n"
      ],
      "metadata": {
        "id": "d_jDyv10n6nj"
      },
      "execution_count": 12,
      "outputs": []
    },
    {
      "cell_type": "markdown",
      "source": [
        "<h3> Model"
      ],
      "metadata": {
        "id": "0CDVuSpKoo8f"
      }
    },
    {
      "cell_type": "code",
      "source": [
        "input_size = 10\n",
        "output_size = 2\n",
        "hidden_layer_size = 50\n",
        "\n",
        "model = tf.keras.Sequential([\n",
        "    tf.keras.layers.Dense(hidden_layer_size, activation = 'relu'),\n",
        "    tf.keras.layers.Dense(hidden_layer_size, activation = 'relu'),\n",
        "    tf.keras.layers.Dense(output_size, activation = 'softmax')\n",
        "])\n",
        "\n",
        "model.compile(optimizer = 'adam', loss = 'sparse_categorical_crossentropy', metrics = ['accuracy'])\n",
        "\n",
        "batch_size = 100\n",
        "\n",
        "max_epochs = 100\n",
        "\n",
        "early_stopping = tf.keras.callbacks.EarlyStopping(patience = 2\n",
        "                                                  )\n",
        "\n",
        "model.fit(train_inputs,\n",
        "          train_targets,\n",
        "          batch_size = batch_size,\n",
        "          epochs = max_epochs,\n",
        "          callbacks = [early_stopping],\n",
        "          validation_data = (validation_inputs, validation_targets),\n",
        "          verbose = 2)"
      ],
      "metadata": {
        "colab": {
          "base_uri": "https://localhost:8080/"
        },
        "id": "GHA3AXlzoTPP",
        "outputId": "54224bed-b45c-40a5-9e81-78aaf70864fe"
      },
      "execution_count": 16,
      "outputs": [
        {
          "output_type": "stream",
          "name": "stdout",
          "text": [
            "Epoch 1/100\n",
            "113/113 - 2s - 17ms/step - accuracy: 0.8765 - loss: 0.3607 - val_accuracy: 0.9041 - val_loss: 0.2737\n",
            "Epoch 2/100\n",
            "113/113 - 0s - 4ms/step - accuracy: 0.9020 - loss: 0.2712 - val_accuracy: 0.9041 - val_loss: 0.2537\n",
            "Epoch 3/100\n",
            "113/113 - 0s - 3ms/step - accuracy: 0.9033 - loss: 0.2580 - val_accuracy: 0.9077 - val_loss: 0.2448\n",
            "Epoch 4/100\n",
            "113/113 - 1s - 6ms/step - accuracy: 0.9068 - loss: 0.2492 - val_accuracy: 0.9084 - val_loss: 0.2378\n",
            "Epoch 5/100\n",
            "113/113 - 1s - 6ms/step - accuracy: 0.9079 - loss: 0.2433 - val_accuracy: 0.9077 - val_loss: 0.2353\n",
            "Epoch 6/100\n",
            "113/113 - 0s - 3ms/step - accuracy: 0.9085 - loss: 0.2415 - val_accuracy: 0.9070 - val_loss: 0.2380\n",
            "Epoch 7/100\n",
            "113/113 - 1s - 6ms/step - accuracy: 0.9075 - loss: 0.2374 - val_accuracy: 0.9098 - val_loss: 0.2315\n",
            "Epoch 8/100\n",
            "113/113 - 1s - 5ms/step - accuracy: 0.9088 - loss: 0.2352 - val_accuracy: 0.9084 - val_loss: 0.2351\n",
            "Epoch 9/100\n",
            "113/113 - 1s - 7ms/step - accuracy: 0.9095 - loss: 0.2368 - val_accuracy: 0.9098 - val_loss: 0.2318\n"
          ]
        },
        {
          "output_type": "execute_result",
          "data": {
            "text/plain": [
              "<keras.src.callbacks.history.History at 0x7b7a0f750850>"
            ]
          },
          "metadata": {},
          "execution_count": 16
        }
      ]
    },
    {
      "cell_type": "markdown",
      "source": [
        "<h3> Test the model"
      ],
      "metadata": {
        "id": "k29lueEptYu0"
      }
    },
    {
      "cell_type": "code",
      "source": [
        "test_loss, test_accuracy = model.evaluate(test_inputs, test_targets)"
      ],
      "metadata": {
        "colab": {
          "base_uri": "https://localhost:8080/"
        },
        "id": "IorFZNqwptlx",
        "outputId": "5eebf78f-ce22-4c5b-bee7-ae2e05de1dbd"
      },
      "execution_count": 20,
      "outputs": [
        {
          "output_type": "stream",
          "name": "stdout",
          "text": [
            "\u001b[1m45/45\u001b[0m \u001b[32m━━━━━━━━━━━━━━━━━━━━\u001b[0m\u001b[37m\u001b[0m \u001b[1m0s\u001b[0m 4ms/step - accuracy: 0.9101 - loss: 0.2103\n"
          ]
        }
      ]
    },
    {
      "cell_type": "code",
      "source": [
        "print('\\nTest loss: {0:.2f}. Test accuracy: {1:.2f}%'.format(test_loss, test_accuracy * 100.))"
      ],
      "metadata": {
        "colab": {
          "base_uri": "https://localhost:8080/"
        },
        "id": "Wo6y8x9utfiX",
        "outputId": "4f38cb95-b847-4d1d-a469-fb77f40cd843"
      },
      "execution_count": 21,
      "outputs": [
        {
          "output_type": "stream",
          "name": "stdout",
          "text": [
            "\n",
            "Test loss: 0.20. Test accuracy: 92.05%\n"
          ]
        }
      ]
    },
    {
      "cell_type": "code",
      "source": [],
      "metadata": {
        "id": "MDzVuCR9tkkI"
      },
      "execution_count": null,
      "outputs": []
    }
  ],
  "metadata": {
    "colab": {
      "name": "Welcome To Colab",
      "provenance": [],
      "include_colab_link": true
    },
    "kernelspec": {
      "display_name": "Python 3",
      "name": "python3"
    }
  },
  "nbformat": 4,
  "nbformat_minor": 0
}